{
 "cells": [
  {
   "cell_type": "code",
   "execution_count": 1,
   "metadata": {},
   "outputs": [],
   "source": [
    "from PIL import Image\n",
    "\n",
    "def view_png_with_colored_background(image_path, output_path, background_color=(255, 255, 255)):\n",
    "    # Open the image\n",
    "    image = Image.open(image_path).convert(\"RGBA\")\n",
    "    \n",
    "    # Create a new image with the same size and the chosen background color\n",
    "    new_image = Image.new(\"RGBA\", image.size, background_color + (255,))\n",
    "    \n",
    "    # Paste the original image onto the new image\n",
    "    new_image.paste(image, (0, 0), image)\n",
    "    \n",
    "    # Save the new image\n",
    "    new_image.save(output_path, \"PNG\")\n",
    "\n",
    "# Example usage\n",
    "view_png_with_colored_background('output_icon.png', 'view.png', (255, 0, 0))  # Red background\n"
   ]
  }
 ],
 "metadata": {
  "kernelspec": {
   "display_name": "Python 3",
   "language": "python",
   "name": "python3"
  },
  "language_info": {
   "codemirror_mode": {
    "name": "ipython",
    "version": 3
   },
   "file_extension": ".py",
   "mimetype": "text/x-python",
   "name": "python",
   "nbconvert_exporter": "python",
   "pygments_lexer": "ipython3",
   "version": "3.10.1"
  }
 },
 "nbformat": 4,
 "nbformat_minor": 2
}
