{
 "cells": [
  {
   "cell_type": "markdown",
   "metadata": {},
   "source": [
    "## Run all the following code.\n",
    "## Output will be output_icon.png"
   ]
  },
  {
   "cell_type": "code",
   "execution_count": 14,
   "metadata": {},
   "outputs": [],
   "source": [
    "import os\n",
    "import requests\n",
    "# pip install openai\n",
    "from openai import OpenAI\n",
    "\n",
    "# Initialize the OpenAI client\n",
    "client = OpenAI(\n",
    "    # set openai API key to an environment variable, then replace \"OPENAI_API_KEY\" with the name of the environment variable.\n",
    "    # IMPORTANT!! Don't put actual API key here and push to the Github.\n",
    "    api_key=os.environ.get(\"OPENAI_API_KEY_DEWAN\")\n",
    ")\n",
    "\n",
    "# modify object name here. Use simple words.\n",
    "objectName = \"bulb\"\n",
    "\n",
    "# Generate the image\n",
    "response = client.images.generate(\n",
    "  model=\"dall-e-3\",\n",
    "  prompt=f\"You are the world best icon designer. Create a simple white {objectName} icon for me. The icon content should be half of the image. The rest of the image should be black. Do not include anything else in the image except the icon itself. The icon should be one entity. There will only be black and white in the generated image.\",\n",
    "  size=\"1024x1024\",\n",
    "  quality=\"standard\",\n",
    "  n=1,\n",
    ")\n",
    "\n",
    "# Get the image URL from the response\n",
    "image_url = response.data[0].url\n",
    "\n",
    "# Download the image\n",
    "image_response = requests.get(image_url)\n",
    "\n",
    "# Save the image locally\n",
    "if image_response.status_code == 200:\n",
    "    with open(\"generated_image.png\", \"wb\") as file:\n",
    "        file.write(image_response.content)\n",
    "else:\n",
    "    print(\"Failed to download image\")\n"
   ]
  },
  {
   "cell_type": "code",
   "execution_count": null,
   "metadata": {},
   "outputs": [],
   "source": [
    "# !pip install pillow\n",
    "from PIL import Image\n",
    "\n",
    "def change_non_white_to_transparent_and_resize(image_path, output_path, threshold=200, size=(56, 56)):\n",
    "    # Open the image\n",
    "    image = Image.open(image_path).convert(\"RGBA\")\n",
    "    \n",
    "    # Get data\n",
    "    data = image.getdata()\n",
    "    \n",
    "    new_data = []\n",
    "    for item in data:\n",
    "        # Change pixels not close to white to transparent\n",
    "        if all(channel > threshold for channel in item[:3]):\n",
    "            new_data.append(item)\n",
    "        else:\n",
    "            new_data.append((255, 255, 255, 0))  # White and transparent\n",
    "    \n",
    "    # Update image data\n",
    "    image.putdata(new_data)\n",
    "    \n",
    "    # Resize the image\n",
    "    image = image.resize(size, Image.ANTIALIAS)\n",
    "    \n",
    "    # Save the image\n",
    "    image.save(output_path, \"PNG\")\n",
    "\n",
    "# Example usage\n",
    "change_non_white_to_transparent_and_resize('generated_image.png', 'output_icon.png')\n"
   ]
  }
 ],
 "metadata": {
  "kernelspec": {
   "display_name": "Python 3",
   "language": "python",
   "name": "python3"
  },
  "language_info": {
   "codemirror_mode": {
    "name": "ipython",
    "version": 3
   },
   "file_extension": ".py",
   "mimetype": "text/x-python",
   "name": "python",
   "nbconvert_exporter": "python",
   "pygments_lexer": "ipython3",
   "version": "3.10.1"
  }
 },
 "nbformat": 4,
 "nbformat_minor": 2
}
