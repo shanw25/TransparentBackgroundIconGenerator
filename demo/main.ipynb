{
 "cells": [
  {
   "cell_type": "markdown",
   "metadata": {},
   "source": [
    "## Run all the following code.\n",
    "## Output will be final.png\n",
    "## To view the image better, see view.png"
   ]
  },
  {
   "cell_type": "code",
   "execution_count": 58,
   "metadata": {},
   "outputs": [],
   "source": [
    "import os\n",
    "import requests\n",
    "# pip install openai\n",
    "from openai import OpenAI\n",
    "\n",
    "# Initialize the OpenAI client\n",
    "client = OpenAI(\n",
    "    # set openai API key to an environment variable, then replace \"OPENAI_API_KEY\" with the name of the environment variable.\n",
    "    # IMPORTANT!! Don't put actual API key here and push to the Github.\n",
    "    api_key=os.environ.get(\"OPENAI_API_KEY_DEWAN\")\n",
    ")\n",
    "\n",
    "# modify object name here. Use simple words.\n",
    "objectName = \"import\"\n",
    "\n",
    "# Generate the image\n",
    "response = client.images.generate(\n",
    "  model=\"dall-e-3\",\n",
    "  prompt=f\"Create a simple, flat, pure white {objectName} vector icon with pure black background.\",\n",
    "  size=\"1024x1024\",\n",
    "  quality=\"standard\",\n",
    "  n=1,\n",
    ")\n",
    "\n",
    "# Get the image URL from the response\n",
    "image_url = response.data[0].url\n",
    "\n",
    "# Download the image\n",
    "image_response = requests.get(image_url)\n",
    "\n",
    "# Save the image locally\n",
    "if image_response.status_code == 200:\n",
    "    with open(\"1.png\", \"wb\") as file:\n",
    "        file.write(image_response.content)\n",
    "else:\n",
    "    print(\"Failed to download image\")\n"
   ]
  },
  {
   "cell_type": "code",
   "execution_count": 59,
   "metadata": {},
   "outputs": [],
   "source": [
    "# !pip install pillow\n",
    "from PIL import Image\n",
    "\n",
    "def binarize_image(input_image_path, output_image_path, size=(100, 100), threshold=128):\n",
    "    image = Image.open(input_image_path)\n",
    "    image = image.convert(\"L\")  # Convert to grayscale\n",
    "\n",
    "    # Binarize the image\n",
    "    binary_image = image.point(lambda p: 255 if p > threshold else 0)\n",
    "\n",
    "    # Resize the binary image\n",
    "    \n",
    "    binary_image = binary_image.convert(\"RGB\")  # Convert back to RGB for saving\n",
    "    binary_image.save(output_image_path)\n",
    "\n",
    "# Example usage\n",
    "binarize_image('1.png', '2_grayscale.png')\n"
   ]
  },
  {
   "cell_type": "code",
   "execution_count": 60,
   "metadata": {},
   "outputs": [],
   "source": [
    "from PIL import Image\n",
    "\n",
    "def png_to_transparent(png_path, output_path):\n",
    "    # Open the image\n",
    "    image = Image.open(png_path).convert(\"RGBA\")\n",
    "    \n",
    "    # Modify black pixels to transparent\n",
    "    data = image.getdata()\n",
    "    new_data = []\n",
    "    for item in data:\n",
    "        # Change all black (also shades of black) to transparent\n",
    "        if item[0] < 10 and item[1] < 10 and item[2] < 10:\n",
    "            new_data.append((255, 255, 255, 0))\n",
    "        else:\n",
    "            new_data.append(item)\n",
    "    \n",
    "    image.putdata(new_data)\n",
    "    \n",
    "    # Save the modified image\n",
    "    image.save(output_path)\n",
    "\n",
    "# Example usage\n",
    "png_to_transparent('2_grayscale.png', '3_background_transparent.png')\n"
   ]
  },
  {
   "cell_type": "code",
   "execution_count": 61,
   "metadata": {},
   "outputs": [],
   "source": [
    "def resize_image(input_image_path, output_image_path, size = (50, 50)):\n",
    "    image = Image.open(input_image_path)\n",
    "    image = image.resize(size)\n",
    "    image.save(output_image_path)\n",
    "\n",
    "resize_image('3_background_transparent.png', '4_resize_50_50_final.png')"
   ]
  },
  {
   "cell_type": "code",
   "execution_count": 62,
   "metadata": {},
   "outputs": [],
   "source": [
    "def change_background_color(png_path, background_color, output_path='5_add_backgrou_to_view.png'):\n",
    "    # Open the image\n",
    "    image = Image.open(png_path).convert(\"RGBA\")\n",
    "    \n",
    "    # Create a new image with the background color\n",
    "    new_image = Image.new(\"RGBA\", image.size, background_color)\n",
    "    \n",
    "    # Paste the original image on top of the background\n",
    "    new_image.paste(image, (0, 0), image)\n",
    "    \n",
    "    # Save the modified image\n",
    "    new_image.save(output_path)\n",
    "\n",
    "# Example usage\n",
    "change_background_color('4_resize_50_50_final.png', (255, 0, 0, 255))  # Change background to white"
   ]
  }
 ],
 "metadata": {
  "kernelspec": {
   "display_name": "Python 3",
   "language": "python",
   "name": "python3"
  },
  "language_info": {
   "codemirror_mode": {
    "name": "ipython",
    "version": 3
   },
   "file_extension": ".py",
   "mimetype": "text/x-python",
   "name": "python",
   "nbconvert_exporter": "python",
   "pygments_lexer": "ipython3",
   "version": "3.10.1"
  }
 },
 "nbformat": 4,
 "nbformat_minor": 2
}
